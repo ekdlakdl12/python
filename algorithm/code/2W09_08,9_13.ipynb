{
 "cells": [
  {
   "cell_type": "code",
   "execution_count": 1,
   "id": "42ce3137",
   "metadata": {},
   "outputs": [
    {
     "name": "stdout",
     "output_type": "stream",
     "text": [
      "32찾기:  0\n",
      "29찾기:  9\n"
     ]
    }
   ],
   "source": [
    "def sequential_search(A, key): # 순차탐색. A는 리스트, key는 탐색 키\n",
    "    for i in range(len(A)) :   # i : 0, 1, ... len(A)-1\n",
    "        if A[i] == key :         # 탐색 성공하면 (비교연산. 기본 연산임)\n",
    "            return i         # 인덱스 반환 \n",
    "    return -1            # 탐색에 실패하면 -1 반환 \n",
    "A = [ 32, 14, 5, 17, 23, 9, 11, 4, 26, 29]\n",
    "\n",
    "print(\"32찾기: \", sequential_search(A, 32))\n",
    "print(\"29찾기: \", sequential_search(A, 29))"
   ]
  },
  {
   "cell_type": "code",
   "execution_count": 2,
   "id": "a1b208f2",
   "metadata": {},
   "outputs": [
    {
     "name": "stdout",
     "output_type": "stream",
     "text": [
      "32찾기:  0\n",
      "29찾기:  9\n",
      "[32, 14, 5, 17, 23, 9, 11, 14, 26, 29] False\n",
      "[13, 6, 8, 7, 12, 25] True\n"
     ]
    }
   ],
   "source": [
    "#중복검사\n",
    "\n",
    "#순차\n",
    "def sequential_search(A, key): # 순차탐색. A는 리스트, key는 탐색 키\n",
    "    for i in range(len(A)) :   # i : 0, 1, ... len(A)-1\n",
    "        if A[i] == key :         # 탐색 성공하면 (비교연산. 기본 연산임)\n",
    "            return i         # 인덱스 반환 \n",
    "    return -1            # 탐색에 실패하면 -1 반환 \n",
    "A = [ 32, 14, 5, 17, 23, 9, 11, 4, 26, 29]\n",
    "print(\"32찾기: \", sequential_search(A, 32))\n",
    "print(\"29찾기: \", sequential_search(A, 29))\n",
    "\n",
    "#기본연산\n",
    "def unique_elements(A) :    # 리스트 A입력\n",
    "    n = len(A)              # 입력의 크기 = 리스트의 크기\n",
    "    for i in range(n-1) :       # i : 0, 1, ... n-2\n",
    "        for j in range(i+1,n) :   # j : i+1, i+2, ... n-1\n",
    "            if A[i] == A[j] :   # 기본 연산\n",
    "                return False    # 같은 항목이 있으면 False 반환\n",
    "    return True               # 같은 항목이 없으면 True 반환\n",
    "A = [32, 14, 5, 17, 23, 9, 11, 14, 26, 29]\n",
    "B = [13, 6, 8, 7, 12, 25]\n",
    "print(A, unique_elements(A))\n",
    "print(B, unique_elements(B))"
   ]
  },
  {
   "cell_type": "code",
   "execution_count": 3,
   "id": "1aad87b8",
   "metadata": {},
   "outputs": [
    {
     "name": "stdout",
     "output_type": "stream",
     "text": [
      "11 square (A) =  121\n",
      "11 square (B) =  121\n",
      "11 square (C) =  121\n"
     ]
    }
   ],
   "source": [
    "#반복,제곱계산 (빅오표기)\n",
    "\n",
    "def compute_square_A(n) :  # 정수 n의 제곱 계산 함수. 알고리즘 A 사용\n",
    "    return n*n   # 기본 연산: n*n     O(1)\n",
    "\n",
    "def compute_square_B(n) :   # 정수 n의 제곱 계산 함수. 알고리즘 B 사용\n",
    "    sum = 0\n",
    "    for i in range(n) :   # i : 0, 1, ... n-1\n",
    "        sum = sum + n   # 기본 연산         O(n)\n",
    "    return sum\n",
    "\n",
    "def compute_square_C(n) : # 정수 n의 제곱 계산 함수. 알고리즘 C 사용\n",
    "    sum = 0\n",
    "    for i in range(n) : # i : 0, 1, ... n-1\n",
    "        for j in range(n) : # j : 0, 1, ... n-1\n",
    "            sum = sum + 1  # 기본 연산    O(n^2)\n",
    "    return sum\n",
    "\n",
    "print(\"11 square (A) = \", compute_square_A(11))\n",
    "print(\"11 square (B) = \", compute_square_B(11))\n",
    "print(\"11 square (C) = \", compute_square_C(11))"
   ]
  },
  {
   "cell_type": "code",
   "execution_count": 1,
   "id": "d24316da",
   "metadata": {},
   "outputs": [
    {
     "name": "stdout",
     "output_type": "stream",
     "text": [
      "총 비트수 (123) =  7\n"
     ]
    }
   ],
   "source": [
    "def binary_digits(n) :  # 입력 양의 정수 n\n",
    "    count = 1           # 이진수의 최소 길이는 0\n",
    "    while n > 1 :       # n이 1보다 크면 더 나눌 수 있음\n",
    "        count = count + 1   # count 증가\n",
    "        n = n // 2       # n의 몫을 구해 다시 n에 저장 (정수 나눗셈) \n",
    "    return count    # count를 반환 \n",
    "print(\"총 비트수 (123) = \", binary_digits(123))"
   ]
  },
  {
   "cell_type": "code",
   "execution_count": 5,
   "id": "bd77f07a",
   "metadata": {},
   "outputs": [
    {
     "name": "stdout",
     "output_type": "stream",
     "text": [
      "Factorial순환(3) =  6\n",
      "Factorial반복(3) =  6\n"
     ]
    }
   ],
   "source": [
    "#순환은 간결하지만 실행속도면에서 많은경우 호출 부담에 의해 반복보다 느리다\n",
    "#속도 반복 >> 순환\n",
    "\n",
    "def factorial(n) :    # 순환적으로 구현한 factorial 함수\n",
    "    if n == 0 :       # 종료 조건\n",
    "        return 1    # 순환을 멈추는 부분\n",
    "    else :\n",
    "        return n * factorial(n - 1)   # 자기 자신을 순환적으로 호출. \n",
    "    \n",
    "def factorial_iter(n) :           # 반복 구조로 구현한 Factorial 함수\n",
    "    result = 1  \n",
    "    for k in range(n, 0, -1) :  # k: n, n-1, ..., 2, 1\n",
    "        result = result * k      # 기본 연산\n",
    "    return result\n",
    "\n",
    "print('Factorial순환(3) = ', factorial(3))\n",
    "print('Factorial반복(3) = ', factorial_iter(3))"
   ]
  },
  {
   "cell_type": "markdown",
   "id": "629901ac",
   "metadata": {},
   "source": [
    "# 순환이 더빠른 예 : 겨듭제곱 구하기\n",
    "# 순환적인 함수 O(log 2N)\n",
    "# 반복적인 함수 O(N)\n"
   ]
  },
  {
   "cell_type": "code",
   "execution_count": 4,
   "id": "b86adb37",
   "metadata": {},
   "outputs": [
    {
     "name": "stdout",
     "output_type": "stream",
     "text": [
      "실행시간= 2.757624626159668\n"
     ]
    },
    {
     "data": {
      "text/plain": [
       "3.273390607896142e+150"
      ]
     },
     "execution_count": 4,
     "metadata": {},
     "output_type": "execute_result"
    }
   ],
   "source": [
    "import time\n",
    "def power_iter(x, n) : \n",
    "    result = 1.0\n",
    "    \n",
    "    for i in range(n):   # 루프 n번 반복   O(n)\n",
    "        result = result * x\n",
    "    return result\n",
    "start = time.time()\n",
    "for i in range(0, 100000,1):\n",
    "    power_iter(2.0, 500)\n",
    "    \n",
    "end = time.time()\n",
    "\n",
    "print(\"실행시간=\", end - start)\n",
    "power_iter(2.0, 500)"
   ]
  },
  {
   "cell_type": "markdown",
   "id": "b6cdb2da",
   "metadata": {},
   "source": [
    "# 순환 알고리즘 복잡도 높아짐"
   ]
  },
  {
   "cell_type": "code",
   "execution_count": 5,
   "id": "1463ee24",
   "metadata": {},
   "outputs": [
    {
     "name": "stdout",
     "output_type": "stream",
     "text": [
      "5\n",
      "4\n",
      "3\n",
      "2\n",
      "1\n",
      "0\n",
      "1\n",
      "2\n",
      "1\n",
      "0\n",
      "3\n",
      "2\n",
      "1\n",
      "0\n",
      "1\n",
      "5\n",
      "5\n",
      "5\n",
      "5\n"
     ]
    },
    {
     "data": {
      "text/plain": [
       "5"
      ]
     },
     "execution_count": 5,
     "metadata": {},
     "output_type": "execute_result"
    }
   ],
   "source": [
    "def fib(n) : \n",
    "    print(n)\n",
    "    if n == 0 : return 0\n",
    "    elif n == 1 : return 1\n",
    "    else : \n",
    "        return fib(n - 1) + fib(n - 2)\n",
    "fib(5)\n",
    "\n",
    "\n",
    "def fib_iter(n) :\n",
    "    if (n < 2): \n",
    "        return n\n",
    "    last = 0\n",
    "    current = 1\n",
    "    for i in range(2, n+1) :\n",
    "        tmp = current\n",
    "        current += last\n",
    "        last = tmp\n",
    "        print(n)\n",
    "    return current\n",
    "fib_iter(5)"
   ]
  },
  {
   "cell_type": "code",
   "execution_count": 6,
   "id": "238334db",
   "metadata": {},
   "outputs": [
    {
     "name": "stdout",
     "output_type": "stream",
     "text": [
      "원판 1: A --> C\n",
      "원판 2: A --> B\n",
      "원판 1: C --> B\n",
      "원판 3: A --> C\n",
      "원판 1: B --> A\n",
      "원판 2: B --> C\n",
      "원판 1: A --> C\n"
     ]
    }
   ],
   "source": [
    "#하노이 탑\n",
    "def hanoi_tower(n, fr, tmp, to) :     \n",
    "    if (n == 1) :              \n",
    "        print(\"원판 1: %s --> %s\" % (fr, to))\n",
    "    else :\n",
    "        hanoi_tower(n - 1, fr, to, tmp)    \n",
    "        print(\"원판 %d: %s --> %s\" % (n,fr,to))\n",
    "        hanoi_tower(n - 1, tmp, fr, to)    \n",
    " \n",
    "hanoi_tower(3, 'A', 'B', 'C')  "
   ]
  },
  {
   "cell_type": "markdown",
   "id": "8de4b657",
   "metadata": {},
   "source": [
    "이진수 비트수 (복잡도 비교)"
   ]
  },
  {
   "cell_type": "code",
   "execution_count": null,
   "id": "bf9a614f",
   "metadata": {},
   "outputs": [],
   "source": [
    "def binary_digits(n) :# 입력 양의 정수 n\n",
    "\n",
    "    if n == 1 :       # n이 1이면 길이는 1\n",
    "\n",
    "        return 1\n",
    "\n",
    "    else :      # n이 1보다 크면\n",
    "\n",
    "        return 1 + binary_digits(n//2)   # 1 + n//2의 길이\n",
    "\n",
    "start = time.time()\n",
    "\n",
    "print(\"총 비트수 (123) = \", binary_digits(123))\n",
    "\n",
    "end = time.time()\n",
    "\n",
    "print(\"실행시간=\", end - start)\n",
    "\n",
    "\n",
    "def binary_digits(n) :  # 입력 양의 정수 n\n",
    "\n",
    "    count = 1           # 이진수의 최소 길이는 0\n",
    "\n",
    "    while n > 1 :       # n이 1보다 크면 더 나눌 수 있음\n",
    "\n",
    "        count = count + 1   # count 증가\n",
    "\n",
    "        n = n // 2       # n의 몫을 구해 다시 n에 저장 (정수 나눗셈) \n",
    "\n",
    "    return count    # count를 반환 \n",
    "\n",
    "start = time.time()\n",
    "\n",
    "print(\"총 비트수 (123) = \", binary_digits(123))\n",
    "\n",
    "end = time.time()\n",
    "\n",
    "print(\"실행시간=\", end - start)\n",
    "\n",
    " "
   ]
  },
  {
   "cell_type": "code",
   "execution_count": null,
   "id": "6f4c8680",
   "metadata": {},
   "outputs": [],
   "source": []
  }
 ],
 "metadata": {
  "kernelspec": {
   "display_name": "Python 3 (ipykernel)",
   "language": "python",
   "name": "python3"
  },
  "language_info": {
   "codemirror_mode": {
    "name": "ipython",
    "version": 3
   },
   "file_extension": ".py",
   "mimetype": "text/x-python",
   "name": "python",
   "nbconvert_exporter": "python",
   "pygments_lexer": "ipython3",
   "version": "3.9.12"
  }
 },
 "nbformat": 4,
 "nbformat_minor": 5
}
