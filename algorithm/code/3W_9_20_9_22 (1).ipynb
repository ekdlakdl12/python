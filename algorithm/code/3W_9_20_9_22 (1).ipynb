{
 "cells": [
  {
   "cell_type": "code",
   "execution_count": 1,
   "id": "0e83addd",
   "metadata": {},
   "outputs": [
    {
     "name": "stdout",
     "output_type": "stream",
     "text": [
      "Original  :  [5, 3, 8, 4, 9, 1, 6, 2, 7]\n",
      "  Step  1 = [1, 3, 8, 4, 9, 5, 6, 2, 7]\n",
      "  Step  2 = [1, 2, 8, 4, 9, 5, 6, 3, 7]\n",
      "  Step  3 = [1, 2, 3, 4, 9, 5, 6, 8, 7]\n",
      "  Step  4 = [1, 2, 3, 4, 9, 5, 6, 8, 7]\n",
      "  Step  5 = [1, 2, 3, 4, 5, 9, 6, 8, 7]\n",
      "  Step  6 = [1, 2, 3, 4, 5, 6, 9, 8, 7]\n",
      "  Step  7 = [1, 2, 3, 4, 5, 6, 7, 8, 9]\n",
      "  Step  8 = [1, 2, 3, 4, 5, 6, 7, 8, 9]\n",
      "Selection :  [1, 2, 3, 4, 5, 6, 7, 8, 9]\n"
     ]
    }
   ],
   "source": [
    "def selection_sort(A) :     # 선택 정렬\n",
    "    n = len(A)            # n: 리스트 A의 길이\n",
    "    for i in range(n-1) :        # 0, 1, 2, ... n-2 [외부루프]\n",
    "        least = i\n",
    "        for j in range(i+1, n) :      # i+1,...,n-1 [내부루프]\n",
    "            if (A[j]<A[least]) :    # 비교연산\n",
    "                least = j    # 최소항목 갱신\n",
    "        A[i], A[least] = A[least], A[i]    # 배열 항목 교환 \n",
    "        printStep(A, i + 1);    # 중간 과정 출력용 문장 \n",
    "def printStep(arr, val) :    # 중간 과정 출력용 함수\n",
    "    print(\"  Step %2d = \" % val, end='')  # 현재 단계를 출력\n",
    "    print(arr)    # 리스트의 내용을 출력\n",
    "data = [ 5, 3, 8, 4, 9, 1, 6, 2, 7 ]\n",
    "print(\"Original  : \", data)\n",
    "selection_sort(data)\n",
    "print(\"Selection : \", data)\n"
   ]
  },
  {
   "cell_type": "code",
   "execution_count": 2,
   "id": "ca218591",
   "metadata": {},
   "outputs": [
    {
     "name": "stdout",
     "output_type": "stream",
     "text": [
      "32찾기:  0\n",
      "29찾기:  9\n"
     ]
    }
   ],
   "source": [
    "def sequential_search(A, key):  # A는 입력 리스트, key는 탐색 키\n",
    "    for i in range(len(A)) :  # i : 0, 1, ... len(A)-1\n",
    "        if A[i] == key :     # 탐색 성공하면 (비교연산. 기본 연산임)\n",
    "            return i      # 인덱스 반환 \n",
    "    return -1       # 탐색에 실패하면 -1 반환 \n",
    "A = [ 32, 14, 5, 17, 23, 9, 11, 4, 26, 29]\n",
    "print(\"32찾기: \", sequential_search(A, 32))\n",
    "print(\"29찾기: \", sequential_search(A, 29))"
   ]
  },
  {
   "cell_type": "code",
   "execution_count": 3,
   "id": "1e709d2a",
   "metadata": {},
   "outputs": [
    {
     "name": "stdout",
     "output_type": "stream",
     "text": [
      "LO in HELLO WORLD --> 3\n",
      "HI in HELLO WORLD --> -1\n"
     ]
    }
   ],
   "source": [
    "def string_matching( T, P ):    # T는 입력, P는 패턴\n",
    "    n = len(T)           # n: 입력 문자열의 길이\n",
    "    m = len(P)               # m: 패턴 문자열의 길이\n",
    "    for i in range(n-m+1) :    # i: 0, 1, ..., n-m\n",
    "        j = 0\n",
    "        while j < m and P[j]==T[i+j] :   # 패턴 문자열을 모두 비교\n",
    "               j = j + 1\n",
    "        if j == m :        # 모든 문자가 일치하면, 매칭 성공\n",
    "            return i      # 현재 위치 반환\n",
    "    return -1      # 문자열 매칭 실패\n",
    "text = 'HELLO WORLD'b\n",
    "pattern = 'LO'\n",
    "print( pattern, 'in', text, '-->', string_matching(text, pattern))\n",
    "pattern = 'HI'\n",
    "print( pattern, 'in', text, '-->', string_matching(text, pattern))"
   ]
  },
  {
   "cell_type": "code",
   "execution_count": 4,
   "id": "0b3d4d37",
   "metadata": {},
   "outputs": [
    {
     "name": "stdout",
     "output_type": "stream",
     "text": [
      "최근접 거리: 1.4142135623730951\n"
     ]
    }
   ],
   "source": [
    "import math    # math 모듈 포함. 제곱근(sqrt) 함수 사용을 위해\n",
    "def distance(p1, p2):   # Euclidean 거리 계산 함수\n",
    "    return math.sqrt((p1[0]-p2[0])**2 + (p1[1]-p2[1])**2)\n",
    "def closest_pair(p):\n",
    "    n = len(p)              # 점의 전체 개수\n",
    "    mindist = float(\"inf\")  # 최근접 거리 초기화(무한대)\n",
    "    for i in range(n-1):\n",
    "        for j in range(i+1, n):\n",
    "            dist = distance(p[i], p[j])# 유클리드 거리 계산\n",
    "            if dist < mindist:\n",
    "                mindist = dist\n",
    "    return mindist\n",
    "p = [(2, 3), (12, 30), (40, 50), (5, 1), (12, 10), (3, 4)]\n",
    "print(\"최근접 거리:\", closest_pair(p))"
   ]
  },
  {
   "cell_type": "code",
   "execution_count": 5,
   "id": "dd92819f",
   "metadata": {},
   "outputs": [
    {
     "name": "stdout",
     "output_type": "stream",
     "text": [
      "DFS : A C D F B E H G \n"
     ]
    }
   ],
   "source": [
    "def dfs(graph, start, visited ):      # 깊이우선탐색 알고리즘\n",
    "    if start not in visited :      # start가 방문하지 않은 정점이면\n",
    "        visited.add(start)        # start를 방문한 노드 집합에 추가\n",
    "        print(start, end=' ')    # start를 방문했다고 출력함\n",
    "        nbr = graph[start] - visited    # nbr: 차집합 연산 이용\n",
    "        \n",
    "        for v in nbr:        # v ∈ {인접정점} - {방문정점}\n",
    "            dfs(graph, v, visited)    # v에 대해 dfs를 순환적으로 호출\n",
    "mygraph = { \"A\" : {\"B\",\"C\"},\n",
    "            \"B\" : {\"A\", \"D\"},\n",
    "            \"C\" : {\"A\", \"D\", \"E\"},\n",
    "            \"D\" : {\"B\", \"C\", \"F\"},\n",
    "            \"E\" : {\"C\", \"G\", \"H\"},\n",
    "            \"F\" : {\"D\"},\n",
    "            \"G\" : {\"E\", \"H\"},\n",
    "            \"H\" : {\"E\", \"G\"}\n",
    "          }\n",
    "print('DFS : ', end='')\n",
    "dfs(mygraph, \"A\", set() )\n",
    "print()"
   ]
  },
  {
   "cell_type": "code",
   "execution_count": 6,
   "id": "2348ec7c",
   "metadata": {},
   "outputs": [
    {
     "name": "stdout",
     "output_type": "stream",
     "text": [
      "BFS : A C B D E F H G \n"
     ]
    }
   ],
   "source": [
    "import queue\n",
    "def bfs(graph, start):\n",
    "    visited = { start }              # 맨 처음에는 start만 방문한 정점임\n",
    "    que = queue.Queue()                 # 파이썬 큐 모듈의 큐 객체 생성\n",
    "    que.put(start)\n",
    "    while not que.empty():              # 큐에 항목이 있을 때 까지\n",
    "        v = que.get()                   # 큐에서 하나의 정점 v를 빼냄\n",
    "        print(v, end=' ')               # v는 방문했음을 출력\n",
    "        nbr = graph[v] - visited        # nbr = {v의 인접정점} - {방문정점}\n",
    "        for u in nbr:                   # 갈 수 있는 모든 인접 정점에 대해\n",
    "            visited.add(u)              # 이제 u는 방문했음\n",
    "            que.put(u)                  # u를 큐에 삽입\n",
    "            \n",
    "mygraph = { \"A\" : {\"B\",\"C\"},\n",
    "            \"B\" : {\"A\", \"D\"},\n",
    "            \"C\" : {\"A\", \"D\", \"E\"},\n",
    "            \"D\" : {\"B\", \"C\", \"F\"},\n",
    "            \"E\" : {\"C\", \"G\", \"H\"},\n",
    "            \"F\" : {\"D\"},\n",
    "            \"G\" : {\"E\", \"H\"},\n",
    "            \"H\" : {\"E\", \"G\"}\n",
    "          }\n",
    "print('BFS : ', end='')\n",
    "bfs(mygraph, \"A\")\n",
    "print()"
   ]
  },
  {
   "cell_type": "code",
   "execution_count": 5,
   "id": "31d071d7",
   "metadata": {},
   "outputs": [
    {
     "name": "stdout",
     "output_type": "stream",
     "text": [
      "DFS : A B D C E F \n"
     ]
    }
   ],
   "source": [
    "#인접행렬로 전환\n",
    "\n",
    "#꼭짓점\n",
    "vertex = [\"A\",\"B\",\"C\",\"D\",\"E\",\"F\"]\n",
    "\n",
    "#이거 과제로 나옴\n",
    "\n",
    "adjmat =[[0,1,1,0,0,0,0,0],\n",
    "         [1,0,0,1,0,0,0,0],\n",
    "         [1,0,0,1,1,0,0,0],\n",
    "         [0,1,1,0,0,1,0,0],\n",
    "         [0,0,1,0,0,0,1,1],\n",
    "         [0,0,0,1,0,0,0,0],\n",
    "         [0,0,0,0,1,0,0,1],\n",
    "         [0,0,0,0,1,0,1,0]]\n",
    "\n",
    "\n",
    "#중요\n",
    "def dfs_recur(adj, vtx, visited, id) :\n",
    "    print(vtx[id], end=' ')\n",
    "    visited[id] = True\n",
    "    for v in range(len(vtx)) :\n",
    "        if visited[v]==False and adj[id][v] != 0 :\n",
    "            dfs_recur(adj, vtx, visited, v)\n",
    "    return\n",
    "\n",
    "def dfs(adj, vtx, s):\n",
    "    n = len(vtx)\n",
    "    visited = [False]*n\n",
    "    dfs_recur(adj, vtx, visited, s)\n",
    "\n",
    "print('DFS : ', end='')\n",
    "dfs(adjmat,vertex, 0)\n",
    "print()\n",
    "           "
   ]
  },
  {
   "cell_type": "code",
   "execution_count": 7,
   "id": "321a86e0",
   "metadata": {},
   "outputs": [
    {
     "name": "stdout",
     "output_type": "stream",
     "text": [
      "BFS : A B C D E F \n"
     ]
    }
   ],
   "source": [
    "#큐 사용\n",
    "\n",
    "#꼭짓점\n",
    "vertex = [\"A\",\"B\",\"C\",\"D\",\"E\",\"F\"]\n",
    "\n",
    "#이거 과제로 나옴\n",
    "\n",
    "adjmat =[[0,1,1,0,0,0,0,0],\n",
    "         [1,0,0,1,0,0,0,0],\n",
    "         [1,0,0,1,1,0,0,0],\n",
    "         [0,1,1,0,0,1,0,0],\n",
    "         [0,0,1,0,0,0,1,1],\n",
    "         [0,0,0,1,0,0,0,0],\n",
    "         [0,0,0,0,1,0,0,1],\n",
    "         [0,0,0,0,1,0,1,0]]\n",
    "\n",
    "from queue import Queue\n",
    "def bfs(adj, vtx, s):\n",
    "    n = len(vtx)\n",
    "    visited = [False]*n\n",
    "    Q = Queue()\n",
    "    Q.put(s)\n",
    "    visited[s] = True\n",
    "    while not Q.empty() :\n",
    "        s = Q.get()\n",
    "        print(vtx[s], end=' ')\n",
    "        for v in range(len(vtx)) :\n",
    "            if visited[v]==False and adj[s][v] != 0 :\n",
    "                Q.put(v)\n",
    "                visited[v] = True\n",
    "    return\n",
    "print('BFS : ', end='')\n",
    "bfs(adjmat,vertex, 0)\n",
    "print()"
   ]
  }
 ],
 "metadata": {
  "kernelspec": {
   "display_name": "Python 3 (ipykernel)",
   "language": "python",
   "name": "python3"
  },
  "language_info": {
   "codemirror_mode": {
    "name": "ipython",
    "version": 3
   },
   "file_extension": ".py",
   "mimetype": "text/x-python",
   "name": "python",
   "nbconvert_exporter": "python",
   "pygments_lexer": "ipython3",
   "version": "3.9.12"
  }
 },
 "nbformat": 4,
 "nbformat_minor": 5
}
