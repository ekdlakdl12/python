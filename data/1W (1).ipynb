{
 "cells": [
  {
   "cell_type": "markdown",
   "id": "1816c5a5",
   "metadata": {},
   "source": [
    "선문대학교  \n",
    "AI소프트웨어학과"
   ]
  },
  {
   "cell_type": "code",
   "execution_count": 1,
   "id": "135f90bf",
   "metadata": {},
   "outputs": [
    {
     "name": "stdout",
     "output_type": "stream",
     "text": [
      "Hello world\n"
     ]
    }
   ],
   "source": [
    "print(\"Hello world\")"
   ]
  },
  {
   "cell_type": "markdown",
   "id": "e0a7c6bd",
   "metadata": {},
   "source": [
    "# 최준영  \n",
    "## 박지성\n",
    "#### 김연아"
   ]
  }
 ],
 "metadata": {
  "kernelspec": {
   "display_name": "Python 3 (ipykernel)",
   "language": "python",
   "name": "python3"
  },
  "language_info": {
   "codemirror_mode": {
    "name": "ipython",
    "version": 3
   },
   "file_extension": ".py",
   "mimetype": "text/x-python",
   "name": "python",
   "nbconvert_exporter": "python",
   "pygments_lexer": "ipython3",
   "version": "3.9.7"
  }
 },
 "nbformat": 4,
 "nbformat_minor": 5
}
