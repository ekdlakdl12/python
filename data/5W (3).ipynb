{
 "cells": [
  {
   "cell_type": "code",
   "execution_count": 1,
   "id": "c45164aa",
   "metadata": {},
   "outputs": [
    {
     "name": "stdout",
     "output_type": "stream",
     "text": [
      " push 5회:  [1, 2, 3, 4, 5]\n",
      " pop() -->  5\n",
      " pop() -->  4\n",
      " pop  2회:  [1, 2, 3]\n",
      " push+2회:  [1, 2, 3, '홍길동', '이순신']\n",
      " pop() -->  이순신\n",
      " pop  1회:  [1, 2, 3, '홍길동']\n"
     ]
    }
   ],
   "source": [
    "top = [ ]               \n",
    "def isEmpty():\n",
    "    return len(top) == 0\n",
    "def push(item):\n",
    "    top.append(item) # 리스트 맨뒤에 item 추가\n",
    "def pop():\n",
    "    if not isEmpty():\n",
    "        return top.pop(-1)  #리스트 맨뒤에에서 항목 꺼내고 반환\n",
    "def peek():       \n",
    "    if not isEmpty():\n",
    "        return top[-1]  #리스트 맨뒤에 항목을 반환(삭제X)\n",
    "def size(): return len(top)  \n",
    "def clear(): \n",
    "    #global top      \n",
    "    top = []    \n",
    "for i in range(1,6):\n",
    "    push(i)     \n",
    "print(' push 5회: ', top)\n",
    "print(' pop() --> ', pop())\n",
    "print(' pop() --> ', pop())\n",
    "print(' pop  2회: ', top)\n",
    "push('홍길동')\n",
    "push('이순신')\n",
    "print(' push+2회: ', top)\n",
    "print(' pop() --> ', pop())\n",
    "print(' pop  1회: ', top)"
   ]
  },
  {
   "cell_type": "code",
   "execution_count": 3,
   "id": "f15b9ea3",
   "metadata": {},
   "outputs": [
    {
     "ename": "NameError",
     "evalue": "name 'Stack' is not defined",
     "output_type": "error",
     "traceback": [
      "\u001b[1;31m---------------------------------------------------------------------------\u001b[0m",
      "\u001b[1;31mNameError\u001b[0m                                 Traceback (most recent call last)",
      "\u001b[1;32m~\\AppData\\Local\\Temp/ipykernel_5736/4230997759.py\u001b[0m in \u001b[0;36m<module>\u001b[1;34m\u001b[0m\n\u001b[1;32m----> 1\u001b[1;33m \u001b[0mS\u001b[0m \u001b[1;33m=\u001b[0m \u001b[0mStack\u001b[0m\u001b[1;33m(\u001b[0m\u001b[1;33m)\u001b[0m\u001b[1;33m\u001b[0m\u001b[1;33m\u001b[0m\u001b[0m\n\u001b[0m\u001b[0;32m      2\u001b[0m \u001b[1;32mfor\u001b[0m \u001b[0mi\u001b[0m \u001b[1;32min\u001b[0m \u001b[0mrange\u001b[0m\u001b[1;33m(\u001b[0m\u001b[1;36m1\u001b[0m\u001b[1;33m,\u001b[0m\u001b[1;36m6\u001b[0m\u001b[1;33m)\u001b[0m\u001b[1;33m:\u001b[0m\u001b[1;33m\u001b[0m\u001b[1;33m\u001b[0m\u001b[0m\n\u001b[0;32m      3\u001b[0m     \u001b[0mpush\u001b[0m\u001b[1;33m(\u001b[0m\u001b[0mi\u001b[0m\u001b[1;33m)\u001b[0m\u001b[1;33m\u001b[0m\u001b[1;33m\u001b[0m\u001b[0m\n\u001b[0;32m      4\u001b[0m \u001b[0mprint\u001b[0m\u001b[1;33m(\u001b[0m\u001b[1;34m' push 5회: '\u001b[0m\u001b[1;33m,\u001b[0m \u001b[0mtop\u001b[0m\u001b[1;33m)\u001b[0m\u001b[1;33m\u001b[0m\u001b[1;33m\u001b[0m\u001b[0m\n\u001b[0;32m      5\u001b[0m \u001b[0mprint\u001b[0m\u001b[1;33m(\u001b[0m\u001b[1;34m' pop() --> '\u001b[0m\u001b[1;33m,\u001b[0m \u001b[0mpop\u001b[0m\u001b[1;33m(\u001b[0m\u001b[1;33m)\u001b[0m\u001b[1;33m)\u001b[0m\u001b[1;33m\u001b[0m\u001b[1;33m\u001b[0m\u001b[0m\n",
      "\u001b[1;31mNameError\u001b[0m: name 'Stack' is not defined"
     ]
    }
   ],
   "source": [
    "S = Stack()   \n",
    "for i in range(1,6):\n",
    "    push(i)     \n",
    "print(' push 5회: ', top)\n",
    "print(' pop() --> ', pop())\n",
    "print(' pop() --> ', pop())\n",
    "print(' pop  2회: ', top)\n",
    "\n",
    "\n",
    "push('홍길동')\n",
    "push('이순신')\n",
    "print(' push+2회: ', top)\n",
    "print(' pop() --> ', pop())\n",
    "print(' pop  1회: ', top)"
   ]
  },
  {
   "cell_type": "code",
   "execution_count": 5,
   "id": "bfc17f80",
   "metadata": {},
   "outputs": [
    {
     "name": "stdout",
     "output_type": "stream",
     "text": [
      " 스택 even push 5회:  <__main__.Stack object at 0x000001C94D84D610>\n",
      " 스택 odd  push 5회:  <__main__.Stack object at 0x000001C94D84D460>\n",
      " 스택 even     peek:  8\n",
      " 스택 odd      peek:  9\n",
      " 스택 even  pop 2회:  <__main__.Stack object at 0x000001C94D84D610>\n",
      " 스택 odd   pop 3회:  <__main__.Stack object at 0x000001C94D84D460>\n"
     ]
    }
   ],
   "source": [
    "class Stack:\n",
    "    def __init__(self):\n",
    "        self.top = [ ]               \n",
    "    def isEmpty(self):\n",
    "        return len(self.top) == 0\n",
    "    def push(self,item):\n",
    "        self.top.append(item) # 리스트 맨뒤에 item 추가\n",
    "    def pop(self):\n",
    "        if not self.isEmpty():\n",
    "            return self.top.pop(-1)  #리스트 맨뒤에에서 항목 꺼내고 반환\n",
    "    def peek(self):       \n",
    "        if not self.isEmpty():\n",
    "            return self.top[-1]  #리스트 맨뒤에 항목을 반환(삭제X)\n",
    "    def size(self): return len(self.top)  \n",
    "    def clear(self): \n",
    "        #global top    #전역변수 선언이 필요없음  \n",
    "        self.top = []    \n",
    "odd = Stack()\n",
    "even = Stack()\n",
    "for i in range(10):\n",
    "    if i % 2 == 0: even.push(i)\n",
    "    else: odd.push(i)\n",
    "print(' 스택 even push 5회: ', even) #even 객체 출력\n",
    "print(' 스택 odd  push 5회: ', odd) #odd객체 출력\n",
    "print(' 스택 even     peek: ', even.peek())\n",
    "print(' 스택 odd      peek: ', odd.peek())\n",
    "for _ in range(2) : even.pop()\n",
    "for _ in range(3) : odd.pop()\n",
    "print(' 스택 even  pop 2회: ', even)\n",
    "print(' 스택 odd   pop 3회: ', odd)"
   ]
  },
  {
   "cell_type": "markdown",
   "id": "95e73f11",
   "metadata": {},
   "source": [
    "## 괄호검사 알고리즘\n",
    "\n",
    "1. 열린 괄호나오면 스택에 삽입  \n",
    "2.닫힌 괄호 나오면 스택에서 빼내어비교  \n",
    "\n",
    "개수오류 , 비교오류 스택공백오류  "
   ]
  },
  {
   "cell_type": "code",
   "execution_count": 7,
   "id": "69a21177",
   "metadata": {
    "scrolled": true
   },
   "outputs": [
    {
     "name": "stdout",
     "output_type": "stream",
     "text": [
      "{ A[(i+1)] = 0; }  --->  True\n",
      "if( (i==0) && (j==0 )  --->  False\n",
      "A[ (i+1] ) = 0;  --->  False\n"
     ]
    }
   ],
   "source": [
    "def checkBrackets(statement):\n",
    "    stack = Stack()\n",
    "    for ch in statement:  \n",
    "        if ch in ('{', '[', '('):\n",
    "            stack.push(ch)\n",
    "        elif ch in ('}', ']', ')'):\n",
    "            if stack.isEmpty() :\n",
    "                return False  #조건2위반  스택 공백 오류\n",
    "            else :\n",
    "                left = stack.pop() #오류 검색  } 이고 } 이면 오류\n",
    "                if (ch == \"}\" and left != \"{\") or \\\n",
    "                   (ch == \"]\" and left != \"[\") or \\\n",
    "                   (ch == \")\" and left != \"(\") :\n",
    "                    return False  #조건3위반\n",
    "    return stack.isEmpty()    #조건 1위반\n",
    "str = ( \"{ A[(i+1)] = 0; }\", \"if( (i==0) && (j==0 )\", \"A[ (i+1] ) = 0;\" )\n",
    "for s in str:\n",
    "    m = checkBrackets(s)\n",
    "    print(s,\" ---> \", m)"
   ]
  },
  {
   "cell_type": "code",
   "execution_count": 8,
   "id": "d5263ba5",
   "metadata": {},
   "outputs": [
    {
     "name": "stdout",
     "output_type": "stream",
     "text": [
      "['riri {(((000)))}']\n",
      "riri {(((000)))}\n",
      "ch: r\n",
      "ch: i\n",
      "ch: r\n",
      "ch: i\n",
      "ch:  \n",
      "ch: {\n",
      "ch: (\n",
      "ch: (\n",
      "ch: (\n",
      "ch: 0\n",
      "ch: 0\n",
      "ch: 0\n",
      "ch: )\n",
      "ch: )\n",
      "ch: )\n",
      "ch: }\n",
      "M/test2.txt ---> True\n"
     ]
    }
   ],
   "source": [
    "def checkBracketsV2(lines):\n",
    "    stack = Stack()\n",
    "    for ch1 in lines:\n",
    "        print(ch1)\n",
    "        for ch in ch1:\n",
    "            print(\"ch:\",ch)\n",
    "            if ch in ('{', '[', '('):\n",
    "                stack.push(ch)\n",
    "            elif ch in ('}', ']', ')'):\n",
    "                if stack.isEmpty() :\n",
    "                    return False  #조건2위반\n",
    "                else :\n",
    "                    left = stack.pop() #오류 검색  } 이고 } 이면 오류\n",
    "                    if (ch == \"}\" and left != \"{\") or \\\n",
    "                       (ch == \"]\" and left != \"[\") or \\\n",
    "                       (ch == \")\" and left != \"(\") :\n",
    "                        return False  #조건2위반\n",
    "        return stack.isEmpty()    #조건 3위반\n",
    "filename = \"M/test2.txt\"\n",
    "infile = open(filename, \"r\")\n",
    "lines = infile.readlines()\n",
    "infile.close()\n",
    "print(lines)\n",
    "result = checkBracketsV2(lines)\n",
    "print(filename, \"--->\", result)"
   ]
  }
 ],
 "metadata": {
  "kernelspec": {
   "display_name": "Python 3 (ipykernel)",
   "language": "python",
   "name": "python3"
  },
  "language_info": {
   "codemirror_mode": {
    "name": "ipython",
    "version": 3
   },
   "file_extension": ".py",
   "mimetype": "text/x-python",
   "name": "python",
   "nbconvert_exporter": "python",
   "pygments_lexer": "ipython3",
   "version": "3.9.7"
  }
 },
 "nbformat": 4,
 "nbformat_minor": 5
}
