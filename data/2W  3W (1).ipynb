{
 "cells": [
  {
   "cell_type": "markdown",
   "id": "264f285b",
   "metadata": {},
   "source": [
    "# 순환이 더 빠른예: 거듭제곱 계산\n",
    "1번의 순환 호출이 일어날때마다\n",
    "\n",
    "1번의 곱셈과 1번의 나눗셈이 일어나므로\n",
    "\n",
    "전체 연산 개수는 〖log2〗^n=k에 비례"
   ]
  },
  {
   "cell_type": "code",
   "execution_count": 2,
   "id": "551a3fa3",
   "metadata": {
    "scrolled": true
   },
   "outputs": [
    {
     "name": "stdout",
     "output_type": "stream",
     "text": [
      "실행시간= 0.5345706939697266\n"
     ]
    },
    {
     "data": {
      "text/plain": [
       "3.273390607896142e+150"
      ]
     },
     "execution_count": 2,
     "metadata": {},
     "output_type": "execute_result"
    }
   ],
   "source": [
    "import time\n",
    "\n",
    "def power_iter(x, n) : \n",
    "    result = 1.0\n",
    "    for i in range(n):\n",
    "        result = result * x\n",
    "    return result\n",
    "\n",
    "def power(x, n) :\n",
    "    if n == 0 : return 1\n",
    "    elif (n % 2) == 0 :      \n",
    "        return power(x*x, n//2) \n",
    "    else :\n",
    "        return x * power(x*x, (n-1)//2)\n",
    "    \n",
    "start = time.time()\n",
    "for i in range(0, 100000, 1):\n",
    "    power_liter(2.0,500)\n",
    "    \n",
    "#...\n",
    "end = time.time()\n",
    "\n",
    "print(\"실행시간=\",end - start)\n",
    "power_liter(2.0, 500)\n"
   ]
  },
  {
   "cell_type": "markdown",
   "id": "69be8233",
   "metadata": {},
   "source": [
    "# 순환이 훨신 느린경우: 피보나치 수열 계산"
   ]
  },
  {
   "cell_type": "code",
   "execution_count": 11,
   "id": "c2d94947",
   "metadata": {},
   "outputs": [
    {
     "name": "stdout",
     "output_type": "stream",
     "text": [
      "3\n",
      "3\n"
     ]
    },
    {
     "data": {
      "text/plain": [
       "2"
      ]
     },
     "execution_count": 11,
     "metadata": {},
     "output_type": "execute_result"
    }
   ],
   "source": [
    "\n",
    "\n",
    "def fib(n) : \n",
    "\n",
    "    print(n)\n",
    "\n",
    "    if n == 0 : return 0\n",
    "\n",
    "    elif n == 1 : return 1\n",
    "\n",
    "    else : \n",
    "\n",
    " \n",
    "\n",
    "        return fib(n - 1) + fib(n - 2)\n",
    "\n",
    "def fib_iter(n) :\n",
    "\n",
    "    if (n < 2): \n",
    "\n",
    "        return n\n",
    "\n",
    " \n",
    "\n",
    "    last = 0\n",
    "\n",
    "    current = 1\n",
    "\n",
    "    for i in range(2, n+1) :\n",
    "\n",
    "        tmp = current\n",
    "\n",
    "        current += last\n",
    "\n",
    "        last = tmp\n",
    "\n",
    "        print(n)\n",
    "\n",
    "    return current\n",
    "\n",
    " \n",
    "\n",
    "fib_iter(3)"
   ]
  },
  {
   "cell_type": "code",
   "execution_count": 12,
   "id": "c952e671",
   "metadata": {},
   "outputs": [
    {
     "name": "stdout",
     "output_type": "stream",
     "text": [
      "원판 1: A --> C\n",
      "원판 2: A --> B\n",
      "원판 1: C --> B\n",
      "원판 3: A --> C\n",
      "원판 1: B --> A\n",
      "원판 2: B --> C\n",
      "원판 1: A --> C\n",
      "원판 4: A --> B\n",
      "원판 1: C --> B\n",
      "원판 2: C --> A\n",
      "원판 1: B --> A\n",
      "원판 3: C --> B\n",
      "원판 1: A --> C\n",
      "원판 2: A --> B\n",
      "원판 1: C --> B\n",
      "원판 5: A --> C\n",
      "원판 1: B --> A\n",
      "원판 2: B --> C\n",
      "원판 1: A --> C\n",
      "원판 3: B --> A\n",
      "원판 1: C --> B\n",
      "원판 2: C --> A\n",
      "원판 1: B --> A\n",
      "원판 4: B --> C\n",
      "원판 1: A --> C\n",
      "원판 2: A --> B\n",
      "원판 1: C --> B\n",
      "원판 3: A --> C\n",
      "원판 1: B --> A\n",
      "원판 2: B --> C\n",
      "원판 1: A --> C\n"
     ]
    }
   ],
   "source": [
    "def hanoi_tower(n, fr, tmp, to) :     \n",
    "\n",
    " \n",
    "\n",
    "    if (n == 1) :              \n",
    "\n",
    "        print(\"원판 1: %s --> %s\" % (fr, to))\n",
    "\n",
    "    else :\n",
    "\n",
    "        hanoi_tower(n - 1, fr, to, tmp)    \n",
    "\n",
    "        print(\"원판 %d: %s --> %s\" % (n,fr,to))\n",
    "\n",
    "        hanoi_tower(n - 1, tmp, fr, to)    \n",
    "\n",
    " \n",
    "\n",
    " \n",
    "\n",
    "hanoi_tower(5, 'A', 'B', 'C')      "
   ]
  },
  {
   "cell_type": "code",
   "execution_count": 36,
   "id": "a91660f2",
   "metadata": {},
   "outputs": [
    {
     "ename": "NameError",
     "evalue": "name 'N' is not defined",
     "output_type": "error",
     "traceback": [
      "\u001b[1;31m---------------------------------------------------------------------------\u001b[0m",
      "\u001b[1;31mNameError\u001b[0m                                 Traceback (most recent call last)",
      "\u001b[1;32m~\\AppData\\Local\\Temp/ipykernel_15240/291234390.py\u001b[0m in \u001b[0;36m<module>\u001b[1;34m\u001b[0m\n\u001b[0;32m      3\u001b[0m     \u001b[1;32mif\u001b[0m \u001b[0mN\u001b[0m \u001b[1;33m>\u001b[0m \u001b[1;36m0\u001b[0m\u001b[1;33m:\u001b[0m\u001b[1;33m\u001b[0m\u001b[1;33m\u001b[0m\u001b[0m\n\u001b[0;32m      4\u001b[0m         \u001b[0mh\u001b[0m\u001b[1;33m(\u001b[0m\u001b[0mN\u001b[0m\u001b[1;33m-\u001b[0m\u001b[1;36m2\u001b[0m\u001b[1;33m)\u001b[0m\u001b[1;33m\u001b[0m\u001b[1;33m\u001b[0m\u001b[0m\n\u001b[1;32m----> 5\u001b[1;33m \u001b[0mprint\u001b[0m\u001b[1;33m(\u001b[0m\u001b[0mN\u001b[0m\u001b[1;33m)\u001b[0m\u001b[1;33m\u001b[0m\u001b[1;33m\u001b[0m\u001b[0m\n\u001b[0m",
      "\u001b[1;31mNameError\u001b[0m: name 'N' is not defined"
     ]
    }
   ],
   "source": [
    "def h(N):\n",
    "    print(N)\n",
    "    if N > 0:\n",
    "        h(N-2)\n",
    "print(N)"
   ]
  },
  {
   "cell_type": "code",
   "execution_count": 16,
   "id": "900867b4",
   "metadata": {},
   "outputs": [
    {
     "ename": "SyntaxError",
     "evalue": "invalid syntax (Temp/ipykernel_15240/3310230209.py, line 1)",
     "output_type": "error",
     "traceback": [
      "\u001b[1;36m  File \u001b[1;32m\"C:\\Users\\rkffl\\AppData\\Local\\Temp/ipykernel_15240/3310230209.py\"\u001b[1;36m, line \u001b[1;32m1\u001b[0m\n\u001b[1;33m    def h(4):\u001b[0m\n\u001b[1;37m          ^\u001b[0m\n\u001b[1;31mSyntaxError\u001b[0m\u001b[1;31m:\u001b[0m invalid syntax\n"
     ]
    }
   ],
   "source": [
    "def h(N):\n",
    "     print(N)\n",
    "    if N > 0:\n",
    "        h(N-2)\n",
    "print(N)"
   ]
  },
  {
   "cell_type": "code",
   "execution_count": 41,
   "id": "b124bd2e",
   "metadata": {
    "scrolled": true
   },
   "outputs": [
    {
     "ename": "SyntaxError",
     "evalue": "invalid syntax (Temp/ipykernel_15240/1732415778.py, line 1)",
     "output_type": "error",
     "traceback": [
      "\u001b[1;36m  File \u001b[1;32m\"C:\\Users\\rkffl\\AppData\\Local\\Temp/ipykernel_15240/1732415778.py\"\u001b[1;36m, line \u001b[1;32m1\u001b[0m\n\u001b[1;33m    def sm(5):\u001b[0m\n\u001b[1;37m           ^\u001b[0m\n\u001b[1;31mSyntaxError\u001b[0m\u001b[1;31m:\u001b[0m invalid syntax\n"
     ]
    }
   ],
   "source": [
    "def sm(5):\n",
    "    print(5)\n",
    "        if n >1:\n",
    "    else:\n",
    "        return n + sm(n+1)"
   ]
  },
  {
   "cell_type": "code",
   "execution_count": 42,
   "id": "7152679c",
   "metadata": {},
   "outputs": [
    {
     "name": "stdout",
     "output_type": "stream",
     "text": [
      "1 2\n",
      "3 4\n"
     ]
    }
   ],
   "source": [
    "n = 3 # 1, 2, 3,...\n",
    "\n",
    "sum = 0\n",
    "\n",
    "k = 1\n",
    "\n",
    "while k <= n:\n",
    "\n",
    "    sum = sum + k\n",
    "\n",
    "    k = k * 2\n",
    "\n",
    " \n",
    "\n",
    "    print(sum, k)"
   ]
  },
  {
   "cell_type": "code",
   "execution_count": 45,
   "id": "2508d7c8",
   "metadata": {},
   "outputs": [
    {
     "data": {
      "text/plain": [
       "False"
      ]
     },
     "execution_count": 45,
     "metadata": {},
     "output_type": "execute_result"
    }
   ],
   "source": [
    "\"a\" in \"banana\"\n",
    "\"seed\" in \"banana\""
   ]
  },
  {
   "cell_type": "code",
   "execution_count": 46,
   "id": "496a664e",
   "metadata": {},
   "outputs": [
    {
     "data": {
      "text/plain": [
       "True"
      ]
     },
     "execution_count": 46,
     "metadata": {},
     "output_type": "execute_result"
    }
   ],
   "source": [
    "A =[0,1,1,2,3,5,8,13]\n",
    "3 in A"
   ]
  },
  {
   "cell_type": "code",
   "execution_count": 47,
   "id": "f539f137",
   "metadata": {},
   "outputs": [
    {
     "name": "stdout",
     "output_type": "stream",
     "text": [
      "game over\n"
     ]
    }
   ],
   "source": [
    "print(\"game over\")"
   ]
  },
  {
   "cell_type": "code",
   "execution_count": 50,
   "id": "b95afaa5",
   "metadata": {},
   "outputs": [
    {
     "name": "stdout",
     "output_type": "stream",
     "text": [
      "game over\n"
     ]
    }
   ],
   "source": [
    "print(\"game\", end=\" \")\n",
    "print(\"over\")"
   ]
  }
 ],
 "metadata": {
  "kernelspec": {
   "display_name": "Python 3 (ipykernel)",
   "language": "python",
   "name": "python3"
  },
  "language_info": {
   "codemirror_mode": {
    "name": "ipython",
    "version": 3
   },
   "file_extension": ".py",
   "mimetype": "text/x-python",
   "name": "python",
   "nbconvert_exporter": "python",
   "pygments_lexer": "ipython3",
   "version": "3.9.7"
  }
 },
 "nbformat": 4,
 "nbformat_minor": 5
}
